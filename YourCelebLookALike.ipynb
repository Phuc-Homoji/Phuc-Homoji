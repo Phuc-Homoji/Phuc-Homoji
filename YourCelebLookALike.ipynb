{
  "cells": [
    {
      "cell_type": "markdown",
      "metadata": {
        "id": "view-in-github",
        "colab_type": "text"
      },
      "source": [
        "<a href=\"https://colab.research.google.com/github/Phuc-Homoji/Phuc-Homoji/blob/main/YourCelebLookALike.ipynb\" target=\"_parent\"><img src=\"https://colab.research.google.com/assets/colab-badge.svg\" alt=\"Open In Colab\"/></a>"
      ]
    },
    {
      "cell_type": "code",
      "execution_count": 1,
      "metadata": {
        "colab": {
          "base_uri": "https://localhost:8080/"
        },
        "id": "34uSmXEuOVWB",
        "outputId": "bbf47cc7-4fc0-4c55-b013-17f5343d6978"
      },
      "outputs": [
        {
          "output_type": "stream",
          "name": "stdout",
          "text": [
            "Mounted at /content/drive\n"
          ]
        }
      ],
      "source": [
        "# liên kết Google drive với colab\n",
        "from google.colab import drive\n",
        "drive.mount('/content/drive')"
      ]
    },
    {
      "cell_type": "code",
      "execution_count": 19,
      "metadata": {
        "id": "QjnUEyl8OugM"
      },
      "outputs": [],
      "source": [
        "# Tải thư viện cần thiết\n",
        "import numpy as np\n",
        "import matplotlib.pyplot as plt\n",
        "import tensorflow as tf\n",
        "import pandas as pd\n",
        "from keras.preprocessing.image import load_img, img_to_array,array_to_img,ImageDataGenerator, image\n",
        "from keras.layers import Dense,Activation,Dropout,Conv2D,MaxPooling2D,Flatten\n",
        "from tensorflow.keras.models import load_model\n",
        "from keras.models import  Sequential\n",
        "from keras import regularizers\n",
        "from keras.callbacks import EarlyStopping\n",
        "from keras import layers"
      ]
    },
    {
      "cell_type": "code",
      "execution_count": 3,
      "metadata": {
        "id": "_U3K5anUO532"
      },
      "outputs": [],
      "source": [
        "train_data = '/content/drive/MyDrive/AI/BaiTapCuoiKi_Celeb_VN/Train'\n",
        "val_data  =  '/content/drive/MyDrive/AI/BaiTapCuoiKi_Celeb_VN/Validation'"
      ]
    },
    {
      "cell_type": "code",
      "execution_count": 4,
      "metadata": {
        "colab": {
          "base_uri": "https://localhost:8080/"
        },
        "id": "qcsPACWlhu41",
        "outputId": "db83f956-2100-4b1b-d8d6-675c56b10ad7"
      },
      "outputs": [
        {
          "output_type": "stream",
          "name": "stdout",
          "text": [
            "Found 1904 images belonging to 49 classes.\n",
            "Found 367 images belonging to 49 classes.\n"
          ]
        }
      ],
      "source": [
        "from keras.engine.data_adapter import train_validation_split\n",
        "#preprocessing\n",
        "train_scale = ImageDataGenerator(rescale=1./255,\n",
        "                                   rotation_range=0.2,\n",
        "                                   width_shift_range=0.2,   \n",
        "                                   height_shift_range=0.2,\n",
        "                                   shear_range=0.3,\n",
        "                                   zoom_range=0.5,\n",
        "                                   horizontal_flip=True, \n",
        "                                   vertical_flip=True,\n",
        "                                   validation_split=0.2)\n",
        "\n",
        "train_input = train_scale.flow_from_directory(train_data,\n",
        "                        target_size=(128, 128),\n",
        "                        batch_size=64,\n",
        "                        class_mode=\"categorical\")\n",
        "\n",
        "val_input = train_scale.flow_from_directory(val_data,\n",
        "                        target_size=(128, 128),\n",
        "                        batch_size=64,\n",
        "                        class_mode=\"categorical\")"
      ]
    },
    {
      "cell_type": "code",
      "execution_count": 5,
      "metadata": {
        "colab": {
          "base_uri": "https://localhost:8080/"
        },
        "id": "YVe9_8iRmFGO",
        "outputId": "6ec28289-b65d-4ec6-c3d4-35461d1332cd"
      },
      "outputs": [
        {
          "output_type": "stream",
          "name": "stdout",
          "text": [
            "match class:  {'1-Ribi Sachi Thuỷ': 0, '10-Quang Thắng': 1, '11-Vũ Cát Tường': 2, '12-Ánh Viên': 3, '13-NSUT Hồng Vân': 4, '14-Phạm Tuân': 5, '15-Misthy': 6, '16-Phạm Nhật Vượng': 7, '17-Vũ': 8, '18-Karik': 9, '19-Nhật Anh Trắng': 10, '2-Gino Tống': 11, '20-NSUT Tự Long': 12, '21-Sỹ Luân': 13, '22-MC Đại Nghĩa': 14, '23-Vinh Râu': 15, '24-Việt Hương': 16, '25-Trương Minh Quốc Thái': 17, '26-Sơn Tùng MTP': 18, '27-ViruSs': 19, '28-Nguyễn Thị Kim Ngân': 20, '29-Thái Vũ': 21, '3-Nguyễn Huy Hoàng': 22, '30-Chí Tài': 23, '31-Trường Giang': 24, '32-NSUT Thanh Điền': 25, '33-Huỳnh Phương': 26, '34-Lí Hải': 27, '35-Mạc Văn khoa': 28, '36-Phan Mạnh Quỳnh': 29, '37-Xuân Hinh': 30, '38-Minh Nhí': 31, '39-Quang Hải': 32, '4-Đàm Vĩnh Hưng': 33, '40-Trần Tiger': 34, '41-Nguyễn Tử Quảng': 35, '42-Lê Quang Liêm': 36, '43-Tiên Tiên': 37, '44-MC Lại Văn Sâm': 38, '45-Thành Lộc': 39, '46-Đen Vâu': 40, '47-Vân Dung': 41, '48-Hà Anh Tuấn': 42, '49-Hoài Linh': 43, '5-TT Nguyễn Xuân Phúc': 44, '6-NSUT Quyền Linh': 45, '7-NSUT Xuân Bắc': 46, '8-PewPew': 47, '9-MC Trấn Thành': 48}\n",
            "Tổng cộng:  49\n"
          ]
        }
      ],
      "source": [
        "print(\"match class: \", train_input.class_indices)\n",
        "print(\"Tổng cộng: \",train_input.num_classes)"
      ]
    },
    {
      "cell_type": "code",
      "execution_count": 34,
      "metadata": {
        "colab": {
          "base_uri": "https://localhost:8080/"
        },
        "id": "6kmGraUFmOeO",
        "outputId": "c894bd84-cb5f-421d-9f8e-c89179d8a41c"
      },
      "outputs": [
        {
          "output_type": "stream",
          "name": "stdout",
          "text": [
            "Model: \"sequential_7\"\n",
            "_________________________________________________________________\n",
            " Layer (type)                Output Shape              Param #   \n",
            "=================================================================\n",
            " conv2d_26 (Conv2D)          (None, 128, 128, 128)     3584      \n",
            "                                                                 \n",
            " max_pooling2d_25 (MaxPoolin  (None, 64, 64, 128)      0         \n",
            " g2D)                                                            \n",
            "                                                                 \n",
            " dropout_38 (Dropout)        (None, 64, 64, 128)       0         \n",
            "                                                                 \n",
            " conv2d_27 (Conv2D)          (None, 64, 64, 256)       295168    \n",
            "                                                                 \n",
            " max_pooling2d_26 (MaxPoolin  (None, 32, 32, 256)      0         \n",
            " g2D)                                                            \n",
            "                                                                 \n",
            " dropout_39 (Dropout)        (None, 32, 32, 256)       0         \n",
            "                                                                 \n",
            " conv2d_28 (Conv2D)          (None, 32, 32, 512)       1180160   \n",
            "                                                                 \n",
            " max_pooling2d_27 (MaxPoolin  (None, 16, 16, 512)      0         \n",
            " g2D)                                                            \n",
            "                                                                 \n",
            " dropout_40 (Dropout)        (None, 16, 16, 512)       0         \n",
            "                                                                 \n",
            " flatten_7 (Flatten)         (None, 131072)            0         \n",
            "                                                                 \n",
            " dense_22 (Dense)            (None, 1024)              134218752 \n",
            "                                                                 \n",
            " dropout_41 (Dropout)        (None, 1024)              0         \n",
            "                                                                 \n",
            " dense_23 (Dense)            (None, 1024)              1049600   \n",
            "                                                                 \n",
            " dropout_42 (Dropout)        (None, 1024)              0         \n",
            "                                                                 \n",
            " dense_24 (Dense)            (None, 49)                50225     \n",
            "                                                                 \n",
            "=================================================================\n",
            "Total params: 136,797,489\n",
            "Trainable params: 136,797,489\n",
            "Non-trainable params: 0\n",
            "_________________________________________________________________\n"
          ]
        }
      ],
      "source": [
        "#MODEL CNN\n",
        "model=Sequential()\n",
        "#TRÍCH XUẤT TẬP DỮ LIỆU(FEATURE EXTRACTORS)\n",
        "#LAYER 1\n",
        "model.add(Conv2D(128,(3,3),activation='relu',kernel_initializer='he_uniform',padding='same', input_shape=(128,128,3)))\n",
        "model.add(MaxPooling2D((2,2)))\n",
        "model.add(Dropout(0.25))\n",
        "#LAYER 2\n",
        "model.add(Conv2D(256,(3,3),activation='relu',kernel_initializer='he_uniform',padding='same'))\n",
        "model.add(MaxPooling2D((2,2)))\n",
        "model.add(Dropout(0.25))\n",
        "#LAYER 3\n",
        "model.add(Conv2D(512,(3,3),activation='relu',kernel_initializer='he_uniform',padding='same'))\n",
        "model.add(MaxPooling2D((2,2)))\n",
        "model.add(Dropout(0.25))\n",
        "\n",
        "#FULLY CONNECTED LAYER\n",
        "#Flatten Layer is used to change the dimension of output from convolution layer, which has 3D, to 2D output\n",
        "model.add(Flatten())\n",
        "\n",
        "#Dense(512) is a fully-connected layer with 128 hidden units\n",
        "model.add(Dense(1024,activation='relu'))\n",
        "model.add(Dropout(0.5))\n",
        "model.add(Dense(1024,activation='relu'))\n",
        "model.add(Dropout(0.5))\n",
        "\n",
        "model.add(Dense(49,activation='softmax'))  \n",
        "model.summary()"
      ]
    },
    {
      "cell_type": "code",
      "execution_count": 35,
      "metadata": {
        "id": "Ci2aDYsRmedb"
      },
      "outputs": [],
      "source": [
        "from tensorflow.keras.optimizers import Adam\n",
        "opt = Adam(learning_rate=0.001)\n",
        "model.compile(loss='categorical_crossentropy',optimizer='adam',metrics=['accuracy'])"
      ]
    },
    {
      "cell_type": "code",
      "execution_count": 36,
      "metadata": {
        "id": "x63sGLCF-pKQ"
      },
      "outputs": [],
      "source": [
        "from tensorflow.keras.callbacks import ModelCheckpoint\n",
        "ckpoint_2 = ModelCheckpoint(\"Best_facecelb_model_val.h5\",monitor=\"val_accuracy\",save_best_only=True,mode=\"auto\")"
      ]
    },
    {
      "cell_type": "code",
      "execution_count": 39,
      "metadata": {
        "colab": {
          "base_uri": "https://localhost:8080/"
        },
        "id": "KUIIiKrin_DF",
        "outputId": "c7e05f73-c8f6-42a8-8b32-16c8af6d275d"
      },
      "outputs": [
        {
          "output_type": "stream",
          "name": "stdout",
          "text": [
            "Epoch 1/100\n",
            "30/30 [==============================] - 22s 722ms/step - loss: 0.8486 - accuracy: 0.7584 - val_loss: 4.9790 - val_accuracy: 0.3134\n",
            "Epoch 2/100\n",
            "30/30 [==============================] - 15s 489ms/step - loss: 0.7814 - accuracy: 0.7731 - val_loss: 4.9423 - val_accuracy: 0.3324\n",
            "Epoch 3/100\n",
            "30/30 [==============================] - 15s 490ms/step - loss: 0.8113 - accuracy: 0.7742 - val_loss: 5.2202 - val_accuracy: 0.3106\n",
            "Epoch 4/100\n",
            "30/30 [==============================] - 15s 495ms/step - loss: 0.8612 - accuracy: 0.7563 - val_loss: 4.6444 - val_accuracy: 0.3052\n",
            "Epoch 5/100\n",
            "30/30 [==============================] - 15s 508ms/step - loss: 0.8618 - accuracy: 0.7616 - val_loss: 4.7694 - val_accuracy: 0.3025\n",
            "Epoch 6/100\n",
            "30/30 [==============================] - 16s 503ms/step - loss: 0.7760 - accuracy: 0.7731 - val_loss: 5.0293 - val_accuracy: 0.3324\n",
            "Epoch 7/100\n",
            "30/30 [==============================] - 15s 489ms/step - loss: 0.8378 - accuracy: 0.7710 - val_loss: 4.7853 - val_accuracy: 0.3297\n",
            "Epoch 8/100\n",
            "30/30 [==============================] - 15s 486ms/step - loss: 0.8230 - accuracy: 0.7689 - val_loss: 5.3888 - val_accuracy: 0.2888\n",
            "Epoch 9/100\n",
            "30/30 [==============================] - 15s 488ms/step - loss: 0.8206 - accuracy: 0.7658 - val_loss: 4.7198 - val_accuracy: 0.3188\n",
            "Epoch 10/100\n",
            "30/30 [==============================] - 15s 486ms/step - loss: 0.8390 - accuracy: 0.7563 - val_loss: 4.8116 - val_accuracy: 0.3215\n",
            "Epoch 11/100\n",
            "30/30 [==============================] - 15s 488ms/step - loss: 0.7922 - accuracy: 0.7700 - val_loss: 5.2724 - val_accuracy: 0.3297\n",
            "Epoch 12/100\n",
            "30/30 [==============================] - 15s 487ms/step - loss: 0.7756 - accuracy: 0.7705 - val_loss: 5.2940 - val_accuracy: 0.3243\n",
            "Epoch 13/100\n",
            "30/30 [==============================] - 15s 492ms/step - loss: 0.7613 - accuracy: 0.7820 - val_loss: 5.1652 - val_accuracy: 0.3079\n",
            "Epoch 14/100\n",
            "30/30 [==============================] - 15s 489ms/step - loss: 0.7988 - accuracy: 0.7794 - val_loss: 4.8334 - val_accuracy: 0.3379\n",
            "Epoch 15/100\n",
            "30/30 [==============================] - 15s 491ms/step - loss: 0.8147 - accuracy: 0.7736 - val_loss: 4.9367 - val_accuracy: 0.3134\n",
            "Epoch 16/100\n",
            "30/30 [==============================] - 15s 489ms/step - loss: 0.8960 - accuracy: 0.7584 - val_loss: 5.1410 - val_accuracy: 0.3161\n",
            "Epoch 17/100\n",
            "30/30 [==============================] - 15s 487ms/step - loss: 0.8338 - accuracy: 0.7626 - val_loss: 4.7726 - val_accuracy: 0.3079\n",
            "Epoch 18/100\n",
            "30/30 [==============================] - 15s 483ms/step - loss: 0.7998 - accuracy: 0.7721 - val_loss: 4.8658 - val_accuracy: 0.3134\n",
            "Epoch 19/100\n",
            "30/30 [==============================] - 15s 487ms/step - loss: 0.8970 - accuracy: 0.7516 - val_loss: 4.9585 - val_accuracy: 0.2888\n",
            "Epoch 20/100\n",
            "30/30 [==============================] - 15s 499ms/step - loss: 0.7552 - accuracy: 0.7794 - val_loss: 5.0084 - val_accuracy: 0.3243\n",
            "Epoch 21/100\n",
            "30/30 [==============================] - 15s 483ms/step - loss: 0.8091 - accuracy: 0.7705 - val_loss: 4.8755 - val_accuracy: 0.3433\n",
            "Epoch 22/100\n",
            "30/30 [==============================] - 15s 488ms/step - loss: 0.7555 - accuracy: 0.7705 - val_loss: 5.3667 - val_accuracy: 0.3161\n",
            "Epoch 23/100\n",
            "30/30 [==============================] - 15s 486ms/step - loss: 0.8279 - accuracy: 0.7626 - val_loss: 4.6822 - val_accuracy: 0.3379\n",
            "Epoch 24/100\n",
            "30/30 [==============================] - 15s 489ms/step - loss: 0.8274 - accuracy: 0.7631 - val_loss: 5.2592 - val_accuracy: 0.3079\n",
            "Epoch 25/100\n",
            "30/30 [==============================] - 15s 488ms/step - loss: 0.8359 - accuracy: 0.7726 - val_loss: 4.5367 - val_accuracy: 0.3270\n",
            "Epoch 26/100\n",
            "30/30 [==============================] - 15s 487ms/step - loss: 0.8023 - accuracy: 0.7684 - val_loss: 5.4096 - val_accuracy: 0.3161\n",
            "Epoch 27/100\n",
            "30/30 [==============================] - 15s 488ms/step - loss: 0.8483 - accuracy: 0.7631 - val_loss: 5.0989 - val_accuracy: 0.3052\n",
            "Epoch 28/100\n",
            "30/30 [==============================] - 15s 488ms/step - loss: 0.7240 - accuracy: 0.7931 - val_loss: 5.0663 - val_accuracy: 0.3406\n",
            "Epoch 29/100\n",
            "30/30 [==============================] - 15s 488ms/step - loss: 0.8047 - accuracy: 0.7726 - val_loss: 4.7535 - val_accuracy: 0.3079\n",
            "Epoch 30/100\n",
            "30/30 [==============================] - 15s 486ms/step - loss: 0.7400 - accuracy: 0.7899 - val_loss: 5.2945 - val_accuracy: 0.3270\n",
            "Epoch 31/100\n",
            "30/30 [==============================] - 15s 489ms/step - loss: 0.7811 - accuracy: 0.7847 - val_loss: 5.3680 - val_accuracy: 0.3188\n",
            "Epoch 32/100\n",
            "30/30 [==============================] - 15s 487ms/step - loss: 0.8724 - accuracy: 0.7568 - val_loss: 4.4652 - val_accuracy: 0.3134\n",
            "Epoch 33/100\n",
            "30/30 [==============================] - 15s 490ms/step - loss: 0.7851 - accuracy: 0.7789 - val_loss: 4.9833 - val_accuracy: 0.3324\n",
            "Epoch 34/100\n",
            "30/30 [==============================] - 15s 494ms/step - loss: 0.8571 - accuracy: 0.7621 - val_loss: 4.9305 - val_accuracy: 0.3460\n",
            "Epoch 35/100\n",
            "30/30 [==============================] - 15s 486ms/step - loss: 0.7949 - accuracy: 0.7679 - val_loss: 5.1475 - val_accuracy: 0.2997\n",
            "Epoch 36/100\n",
            "30/30 [==============================] - 15s 492ms/step - loss: 0.7778 - accuracy: 0.7778 - val_loss: 4.9208 - val_accuracy: 0.3134\n",
            "Epoch 37/100\n",
            "30/30 [==============================] - 15s 497ms/step - loss: 0.7198 - accuracy: 0.7889 - val_loss: 5.0480 - val_accuracy: 0.3243\n",
            "Epoch 38/100\n",
            "30/30 [==============================] - 15s 493ms/step - loss: 0.8307 - accuracy: 0.7689 - val_loss: 5.3846 - val_accuracy: 0.3134\n",
            "Epoch 39/100\n",
            "30/30 [==============================] - 15s 489ms/step - loss: 0.7961 - accuracy: 0.7784 - val_loss: 4.9310 - val_accuracy: 0.3052\n",
            "Epoch 40/100\n",
            "30/30 [==============================] - 15s 490ms/step - loss: 0.7944 - accuracy: 0.7799 - val_loss: 5.4271 - val_accuracy: 0.3025\n",
            "Epoch 41/100\n",
            "30/30 [==============================] - 15s 490ms/step - loss: 0.8046 - accuracy: 0.7736 - val_loss: 5.4870 - val_accuracy: 0.3215\n",
            "Epoch 42/100\n",
            "30/30 [==============================] - 16s 520ms/step - loss: 0.7804 - accuracy: 0.7773 - val_loss: 5.0713 - val_accuracy: 0.3351\n",
            "Epoch 43/100\n",
            "30/30 [==============================] - 15s 491ms/step - loss: 0.8568 - accuracy: 0.7600 - val_loss: 5.2425 - val_accuracy: 0.2997\n",
            "Epoch 44/100\n",
            "30/30 [==============================] - 15s 491ms/step - loss: 0.8352 - accuracy: 0.7726 - val_loss: 4.6081 - val_accuracy: 0.3188\n",
            "Epoch 45/100\n",
            "30/30 [==============================] - 15s 492ms/step - loss: 0.8277 - accuracy: 0.7731 - val_loss: 5.1225 - val_accuracy: 0.3106\n",
            "Epoch 46/100\n",
            "30/30 [==============================] - 15s 492ms/step - loss: 0.7429 - accuracy: 0.7794 - val_loss: 5.3896 - val_accuracy: 0.2997\n",
            "Epoch 47/100\n",
            "30/30 [==============================] - 15s 492ms/step - loss: 0.7607 - accuracy: 0.7847 - val_loss: 5.3537 - val_accuracy: 0.3079\n",
            "Epoch 48/100\n",
            "30/30 [==============================] - 15s 489ms/step - loss: 0.7698 - accuracy: 0.7820 - val_loss: 5.2319 - val_accuracy: 0.3025\n",
            "Epoch 49/100\n",
            "30/30 [==============================] - 15s 492ms/step - loss: 0.7757 - accuracy: 0.7841 - val_loss: 5.2741 - val_accuracy: 0.3161\n",
            "Epoch 50/100\n",
            "30/30 [==============================] - 15s 494ms/step - loss: 0.8219 - accuracy: 0.7736 - val_loss: 4.7737 - val_accuracy: 0.3488\n",
            "Epoch 51/100\n",
            "30/30 [==============================] - 15s 486ms/step - loss: 0.7963 - accuracy: 0.7752 - val_loss: 5.4999 - val_accuracy: 0.2970\n",
            "Epoch 52/100\n",
            "30/30 [==============================] - 15s 492ms/step - loss: 0.7518 - accuracy: 0.7773 - val_loss: 4.8789 - val_accuracy: 0.2997\n",
            "Epoch 53/100\n",
            "30/30 [==============================] - 15s 491ms/step - loss: 0.8663 - accuracy: 0.7694 - val_loss: 5.1371 - val_accuracy: 0.2943\n",
            "Epoch 54/100\n",
            "30/30 [==============================] - 15s 492ms/step - loss: 0.7142 - accuracy: 0.7983 - val_loss: 5.6996 - val_accuracy: 0.3025\n",
            "Epoch 55/100\n",
            "30/30 [==============================] - 15s 491ms/step - loss: 0.7502 - accuracy: 0.7868 - val_loss: 5.5825 - val_accuracy: 0.3106\n",
            "Epoch 56/100\n",
            "30/30 [==============================] - 15s 485ms/step - loss: 0.7993 - accuracy: 0.7710 - val_loss: 5.2338 - val_accuracy: 0.3161\n",
            "Epoch 57/100\n",
            "30/30 [==============================] - 15s 487ms/step - loss: 0.7538 - accuracy: 0.7710 - val_loss: 5.1365 - val_accuracy: 0.3106\n",
            "Epoch 58/100\n",
            "30/30 [==============================] - 15s 496ms/step - loss: 0.7787 - accuracy: 0.7778 - val_loss: 4.9861 - val_accuracy: 0.3161\n",
            "Epoch 59/100\n",
            "30/30 [==============================] - 15s 489ms/step - loss: 0.7853 - accuracy: 0.7715 - val_loss: 4.8222 - val_accuracy: 0.2997\n",
            "Epoch 60/100\n",
            "30/30 [==============================] - 15s 492ms/step - loss: 0.7512 - accuracy: 0.7946 - val_loss: 4.7633 - val_accuracy: 0.3270\n",
            "Epoch 61/100\n",
            "30/30 [==============================] - 15s 489ms/step - loss: 0.7572 - accuracy: 0.7862 - val_loss: 5.2022 - val_accuracy: 0.2834\n",
            "Epoch 62/100\n",
            "30/30 [==============================] - 15s 487ms/step - loss: 0.7678 - accuracy: 0.7925 - val_loss: 4.9954 - val_accuracy: 0.3106\n",
            "Epoch 63/100\n",
            "30/30 [==============================] - 16s 527ms/step - loss: 0.8391 - accuracy: 0.7658 - val_loss: 5.4200 - val_accuracy: 0.3106\n",
            "Epoch 64/100\n",
            "30/30 [==============================] - 15s 486ms/step - loss: 0.7503 - accuracy: 0.7799 - val_loss: 5.0273 - val_accuracy: 0.3052\n",
            "Epoch 65/100\n",
            "30/30 [==============================] - 15s 491ms/step - loss: 0.7680 - accuracy: 0.7883 - val_loss: 5.3852 - val_accuracy: 0.2779\n",
            "Epoch 66/100\n",
            "30/30 [==============================] - 15s 493ms/step - loss: 0.7519 - accuracy: 0.7778 - val_loss: 5.1784 - val_accuracy: 0.3106\n",
            "Epoch 67/100\n",
            "30/30 [==============================] - 15s 489ms/step - loss: 0.7628 - accuracy: 0.7799 - val_loss: 5.3635 - val_accuracy: 0.3243\n",
            "Epoch 68/100\n",
            "30/30 [==============================] - 15s 491ms/step - loss: 0.7454 - accuracy: 0.7836 - val_loss: 5.3196 - val_accuracy: 0.3025\n",
            "Epoch 69/100\n",
            "30/30 [==============================] - 15s 496ms/step - loss: 0.7810 - accuracy: 0.7773 - val_loss: 5.0294 - val_accuracy: 0.3324\n",
            "Epoch 70/100\n",
            "30/30 [==============================] - 15s 490ms/step - loss: 0.7440 - accuracy: 0.7852 - val_loss: 4.9550 - val_accuracy: 0.3215\n",
            "Epoch 71/100\n",
            "30/30 [==============================] - 15s 489ms/step - loss: 0.7715 - accuracy: 0.7789 - val_loss: 5.1535 - val_accuracy: 0.3188\n",
            "Epoch 72/100\n",
            "30/30 [==============================] - 15s 489ms/step - loss: 0.8144 - accuracy: 0.7668 - val_loss: 4.7990 - val_accuracy: 0.3542\n",
            "Epoch 73/100\n",
            "30/30 [==============================] - 15s 486ms/step - loss: 0.8183 - accuracy: 0.7626 - val_loss: 4.4259 - val_accuracy: 0.3406\n",
            "Epoch 74/100\n",
            "30/30 [==============================] - 15s 488ms/step - loss: 0.7563 - accuracy: 0.7841 - val_loss: 4.9207 - val_accuracy: 0.3515\n",
            "Epoch 75/100\n",
            "30/30 [==============================] - 15s 488ms/step - loss: 0.7915 - accuracy: 0.7778 - val_loss: 4.8172 - val_accuracy: 0.3488\n",
            "Epoch 76/100\n",
            "30/30 [==============================] - 15s 490ms/step - loss: 0.7528 - accuracy: 0.7894 - val_loss: 4.8869 - val_accuracy: 0.3025\n",
            "Epoch 77/100\n",
            "30/30 [==============================] - 15s 490ms/step - loss: 0.7762 - accuracy: 0.7768 - val_loss: 5.0293 - val_accuracy: 0.3025\n",
            "Epoch 78/100\n",
            "30/30 [==============================] - 15s 488ms/step - loss: 0.7490 - accuracy: 0.7847 - val_loss: 5.0341 - val_accuracy: 0.3488\n",
            "Epoch 79/100\n",
            "30/30 [==============================] - 15s 488ms/step - loss: 0.7703 - accuracy: 0.7815 - val_loss: 5.4213 - val_accuracy: 0.2997\n",
            "Epoch 80/100\n",
            "30/30 [==============================] - 15s 489ms/step - loss: 0.7290 - accuracy: 0.7831 - val_loss: 5.0393 - val_accuracy: 0.3297\n",
            "Epoch 81/100\n",
            "30/30 [==============================] - 15s 489ms/step - loss: 0.7496 - accuracy: 0.7988 - val_loss: 5.4569 - val_accuracy: 0.3188\n",
            "Epoch 82/100\n",
            "30/30 [==============================] - 15s 487ms/step - loss: 0.7616 - accuracy: 0.7768 - val_loss: 5.4205 - val_accuracy: 0.3079\n",
            "Epoch 83/100\n",
            "30/30 [==============================] - 15s 491ms/step - loss: 0.7921 - accuracy: 0.7626 - val_loss: 4.8972 - val_accuracy: 0.3161\n",
            "Epoch 84/100\n",
            "30/30 [==============================] - 16s 523ms/step - loss: 0.6833 - accuracy: 0.8104 - val_loss: 5.2500 - val_accuracy: 0.3324\n",
            "Epoch 85/100\n",
            "30/30 [==============================] - 15s 488ms/step - loss: 0.7950 - accuracy: 0.7752 - val_loss: 4.9672 - val_accuracy: 0.3270\n",
            "Epoch 86/100\n",
            "30/30 [==============================] - 15s 492ms/step - loss: 0.8636 - accuracy: 0.7700 - val_loss: 5.1015 - val_accuracy: 0.3542\n",
            "Epoch 87/100\n",
            "30/30 [==============================] - 15s 494ms/step - loss: 0.7772 - accuracy: 0.7742 - val_loss: 5.3104 - val_accuracy: 0.3270\n",
            "Epoch 88/100\n",
            "30/30 [==============================] - 15s 490ms/step - loss: 0.8115 - accuracy: 0.7673 - val_loss: 4.8659 - val_accuracy: 0.3134\n",
            "Epoch 89/100\n",
            "30/30 [==============================] - 15s 485ms/step - loss: 0.8838 - accuracy: 0.7537 - val_loss: 4.9667 - val_accuracy: 0.3270\n",
            "Epoch 90/100\n",
            "30/30 [==============================] - 15s 493ms/step - loss: 0.8133 - accuracy: 0.7763 - val_loss: 5.2168 - val_accuracy: 0.3297\n",
            "Epoch 91/100\n",
            "30/30 [==============================] - 15s 488ms/step - loss: 0.8393 - accuracy: 0.7605 - val_loss: 5.1403 - val_accuracy: 0.2779\n",
            "Epoch 92/100\n",
            "30/30 [==============================] - 15s 488ms/step - loss: 0.7724 - accuracy: 0.7673 - val_loss: 5.0994 - val_accuracy: 0.3052\n",
            "Epoch 93/100\n",
            "30/30 [==============================] - 15s 495ms/step - loss: 0.7308 - accuracy: 0.7899 - val_loss: 5.3672 - val_accuracy: 0.3079\n",
            "Epoch 94/100\n",
            "30/30 [==============================] - 15s 487ms/step - loss: 0.7680 - accuracy: 0.7794 - val_loss: 4.6266 - val_accuracy: 0.3215\n",
            "Epoch 95/100\n",
            "30/30 [==============================] - 15s 486ms/step - loss: 0.7951 - accuracy: 0.7815 - val_loss: 5.0726 - val_accuracy: 0.3134\n",
            "Epoch 96/100\n",
            "30/30 [==============================] - 15s 488ms/step - loss: 0.7369 - accuracy: 0.7894 - val_loss: 5.2339 - val_accuracy: 0.2888\n",
            "Epoch 97/100\n",
            "30/30 [==============================] - 15s 488ms/step - loss: 0.7678 - accuracy: 0.7820 - val_loss: 5.0237 - val_accuracy: 0.3324\n",
            "Epoch 98/100\n",
            "30/30 [==============================] - 15s 487ms/step - loss: 0.7845 - accuracy: 0.7831 - val_loss: 5.4594 - val_accuracy: 0.3297\n",
            "Epoch 99/100\n",
            "30/30 [==============================] - 15s 494ms/step - loss: 0.7473 - accuracy: 0.7936 - val_loss: 5.2732 - val_accuracy: 0.3052\n",
            "Epoch 100/100\n",
            "30/30 [==============================] - 15s 488ms/step - loss: 0.7650 - accuracy: 0.7841 - val_loss: 5.1425 - val_accuracy: 0.3161\n"
          ]
        }
      ],
      "source": [
        "face_celeb_train = model.fit(train_input,batch_size=64,epochs=100,verbose=1,validation_data=val_input,callbacks=[ckpoint_2])"
      ]
    },
    {
      "cell_type": "code",
      "execution_count": 40,
      "metadata": {
        "colab": {
          "base_uri": "https://localhost:8080/",
          "height": 499
        },
        "id": "euHBLsVtmvAQ",
        "outputId": "cd30b940-98fa-4db9-9157-41e6400c3e6b"
      },
      "outputs": [
        {
          "output_type": "display_data",
          "data": {
            "text/plain": [
              "<Figure size 576x576 with 1 Axes>"
            ],
            "image/png": "[encoded data removed]"
          },
          "metadata": {
            "needs_background": "light"
          }
        }
      ],
      "source": [
        "acc = face_celeb_train.history['accuracy']\n",
        "val_acc = face_celeb_train.history['val_accuracy']\n",
        "\n",
        "loss = face_celeb_train.history['loss']\n",
        "val_loss = face_celeb_train.history['val_loss']\n",
        "epochs_range=range(100)\n",
        "plt.figure(figsize=(8, 8))\n",
        "plt.subplot(1, 2, 1)\n",
        "plt.plot(epochs_range, acc, label='Training Accuracy')\n",
        "plt.plot(epochs_range, val_acc, label='Validation Accuracy')\n",
        "plt.legend(loc='lower right')\n",
        "plt.title('Training and Validation Accuracy')\n",
        "plt.show()"
      ]
    }
  ],
  "metadata": {
    "accelerator": "GPU",
    "colab": {
      "name": "YourCelebLookALike.ipynb",
      "provenance": [],
      "collapsed_sections": [],
      "authorship_tag": "ABX9TyMM+DyA0kg3hZ+yEIF2qDx2",
      "include_colab_link": true
    },
    "gpuClass": "standard",
    "kernelspec": {
      "display_name": "Python 3",
      "name": "python3"
    },
    "language_info": {
      "name": "python"
    }
  },
  "nbformat": 4,
  "nbformat_minor": 0
}